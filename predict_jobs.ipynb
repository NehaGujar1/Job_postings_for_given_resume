{
 "cells": [
  {
   "cell_type": "code",
   "execution_count": 1,
   "metadata": {},
   "outputs": [],
   "source": [
    "import pandas as pd\n",
    "import numpy as np\n",
    "import matplotlib.pyplot as plt\n",
    "import seaborn as sns\n",
    "from sklearn.feature_extraction.text import TfidfVectorizer\n",
    "from sklearn.metrics.pairwise import cosine_similarity\n",
    "from sklearn.feature_extraction.text import CountVectorizer\n",
    "from sklearn.decomposition import TruncatedSVD\n",
    "# from sklearn.decomposition import SVD\n",
    "from sklearn.cluster import KMeans\n",
    "from sklearn.mixture import GaussianMixture\n",
    "\n"
   ]
  },
  {
   "cell_type": "code",
   "execution_count": 2,
   "metadata": {},
   "outputs": [
    {
     "data": {
      "text/plain": [
       "0                                                      NaN\n",
       "1                                                      NaN\n",
       "2                                                      NaN\n",
       "3        Bachelor's Degree in Mechanical Engineering pr...\n",
       "4                                                      NaN\n",
       "                               ...                        \n",
       "95119                                                  NaN\n",
       "95120                                                  NaN\n",
       "95121                                                  NaN\n",
       "95122                                                  NaN\n",
       "95123    Must be a seasoned stylist with an existing bo...\n",
       "Name: skills_desc, Length: 95124, dtype: object"
      ]
     },
     "execution_count": 2,
     "metadata": {},
     "output_type": "execute_result"
    }
   ],
   "source": [
    "linkedin_dataset = pd.read_csv('linkedin_dataset.csv')\n",
    "linkedin_dataset['skills_desc']"
   ]
  },
  {
   "cell_type": "code",
   "execution_count": 3,
   "metadata": {},
   "outputs": [],
   "source": [
    "cols = ['skills_desc', 'type', 'pay_period', 'currency', 'compensation_type', 'posting_domain',\n",
    "                           'application_url', 'formatted_experience_level', 'company_size', 'zip_code', 'address',\n",
    "                           'state', 'url', 'city', 'country', 'name']\n",
    "for col in cols:\n",
    "    linkedin_dataset[col].fillna(\"Not Specified\", inplace=True)\n",
    "\n",
    "cols_fill_zero = ['applies', 'views', 'follower_count', 'employee_count']\n",
    "for col in cols_fill_zero:\n",
    "    linkedin_dataset[col].fillna(0, inplace=True)\n",
    "\n",
    "linkedin_dataset['remote_allowed'].fillna(\"Unknown\", inplace=True)\n",
    "\n",
    "linkedin_dataset['description_x'].fillna(\"Not Specified\", inplace=True)\n",
    "\n",
    "linkedin_dataset_cleaned = linkedin_dataset.drop_duplicates()\n"
   ]
  },
  {
   "cell_type": "code",
   "execution_count": 4,
   "metadata": {},
   "outputs": [],
   "source": [
    "import pandas as pd\n",
    "from sklearn.metrics.pairwise import cosine_similarity\n",
    "\n",
    "linkedin_dataset_cleaned['combined_text'] = linkedin_dataset_cleaned['description_x']+ ' ' + linkedin_dataset_cleaned['skills_desc'] + ' ' + linkedin_dataset_cleaned['skills_desc']\n",
    "\n",
    "job_types =  [\n",
    "    'INFORMATION-TECHNOLOGY',\n",
    "    'PUBLIC-RELATIONS',\n",
    "    'SALES',\n",
    "    'TEACHER',\n",
    "    'FINANCE',\n",
    "    'FITNESS',\n",
    "    'HEALTHCARE',\n",
    "    'HR',\n",
    "    'CONSTRUCTION',\n",
    "    'CONSULTANT',\n",
    "    'DESIGNER',\n",
    "    'DIGITAL-MEDIA',\n",
    "    'ENGINEERING',\n",
    "    'AVIATION',\n",
    "    'BANKING',\n",
    "    'BPO',\n",
    "    'BUSINESS-DEVELOPMENT',\n",
    "    'CHEF',\n",
    "    'ACCOUNTANT',\n",
    "    'ADVOCATE',\n",
    "    'AGRICULTURE',\n",
    "    'APPAREL',\n",
    "    'ARTS',\n",
    "    'AUTOMOBILE'\n",
    "]  \n",
    "\n",
    "\n",
    "vectorizer = TfidfVectorizer()\n",
    "combined_text = linkedin_dataset_cleaned['combined_text'].apply(lambda x: ' '.join(x.split()))\n",
    "X = vectorizer.fit_transform(combined_text)\n",
    "similarity_matrix = cosine_similarity(X, vectorizer.transform(job_types))\n",
    "\n",
    "linkedin_dataset_cleaned['PredictedJobType'] = [job_types[idx] for idx in similarity_matrix.argmax(axis=1)]\n",
    "\n"
   ]
  },
  {
   "cell_type": "code",
   "execution_count": 5,
   "metadata": {},
   "outputs": [],
   "source": [
    "def predict_job_type(skills_resume, category, years_of_experience, education, summary):\n",
    "    skills = skills_resume + str(years_of_experience) + education + summary\n",
    "    \n",
    "    filtered_dataset = linkedin_dataset_cleaned[linkedin_dataset_cleaned['PredictedJobType'] == category]\n",
    "    \n",
    "    vectorizer = TfidfVectorizer()\n",
    "    skills_vectorized = vectorizer.fit_transform(filtered_dataset['skills_desc'])\n",
    "    resume_vectorized = vectorizer.transform([skills])\n",
    "    \n",
    "    similarity_scores = cosine_similarity(resume_vectorized, skills_vectorized).flatten()\n",
    "    \n",
    "    filtered_dataset['Similarity_skills'] = similarity_scores\n",
    "    \n",
    "    sorted_dataset = filtered_dataset.sort_values(by=['med_salary', 'max_salary', 'min_salary', 'Similarity_skills'], ascending=[False, False, False, False])\n",
    "    \n",
    "    unique_sorted_dataset = sorted_dataset.drop_duplicates(subset=['company_id', 'title'])\n",
    "    csv_file_path = 'best_predicted_jobs.csv'\n",
    "    unique_sorted_dataset.head(5).drop(columns=['combined_text','PredictedJobType','Similarity_skills']).to_csv(csv_file_path, index=False)\n",
    "    print(f'Data has been written to {csv_file_path}.')\n",
    "    return unique_sorted_dataset.head(5).drop(columns=['combined_text','PredictedJobType','Similarity_skills'])\n"
   ]
  }
 ],
 "metadata": {
  "kernelspec": {
   "display_name": "Python 3 (ipykernel)",
   "language": "python",
   "name": "python3"
  },
  "language_info": {
   "codemirror_mode": {
    "name": "ipython",
    "version": 3
   },
   "file_extension": ".py",
   "mimetype": "text/x-python",
   "name": "python",
   "nbconvert_exporter": "python",
   "pygments_lexer": "ipython3",
   "version": "3.11.0"
  }
 },
 "nbformat": 4,
 "nbformat_minor": 4
}
